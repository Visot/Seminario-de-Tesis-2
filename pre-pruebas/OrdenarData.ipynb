{
 "cells": [
  {
   "cell_type": "code",
   "execution_count": 26,
   "metadata": {},
   "outputs": [],
   "source": [
    "import os\n",
    "from shutil import copyfile\n",
    "directory = 'audio'\n",
    "i=1\n",
    "j=1\n",
    "fdirectory='data'\n",
    "def separar_texto(dir):\n",
    "    with open(dir) as f:\n",
    "        read_data = f.read()\n",
    "    f.closed\n",
    "    read_data=str.lower(read_data)\n",
    "    read_data=read_data.replace(',','')\n",
    "    read_data=read_data.replace('.','')\n",
    "    data=read_data.split('\\n')\n",
    "    return data\n",
    "da=os.listdir(directory)\n",
    "da.sort()\n",
    "for filename in da:\n",
    "    wav='/wav'\n",
    "    text='/etc/prompts-original'\n",
    "    dir=directory+'/'+filename+wav\n",
    "    dirtext=directory+'/'+filename+text\n",
    "    data=separar_texto(dirtext)\n",
    "    for x in data:\n",
    "        if x!='':\n",
    "            file = open(fdirectory+'/'+str(j)+\".txt\",\"w\") \n",
    "            file.write(x[8:])\n",
    "            file.close() \n",
    "            j=j+1\n",
    "    waudio=os.listdir(dir)\n",
    "    waudio.sort()\n",
    "    #print(waudio)\n",
    "    for name in waudio:\n",
    "        copyfile(dir+'/'+name,fdirectory+'/'+ str(i)+'.wav')\n",
    "        i=i+1\n"
   ]
  },
  {
   "cell_type": "code",
   "execution_count": 48,
   "metadata": {},
   "outputs": [],
   "source": [
    "\n"
   ]
  }
 ],
 "metadata": {
  "kernelspec": {
   "display_name": "Python 3",
   "language": "python",
   "name": "python3"
  },
  "language_info": {
   "codemirror_mode": {
    "name": "ipython",
    "version": 3
   },
   "file_extension": ".py",
   "mimetype": "text/x-python",
   "name": "python",
   "nbconvert_exporter": "python",
   "pygments_lexer": "ipython3",
   "version": "3.6.5"
  }
 },
 "nbformat": 4,
 "nbformat_minor": 2
}
