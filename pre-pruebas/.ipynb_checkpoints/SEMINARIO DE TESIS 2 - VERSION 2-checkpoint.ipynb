{
 "cells": [
  {
   "cell_type": "markdown",
   "metadata": {},
   "source": [
    "# Importanción de librerías "
   ]
  },
  {
   "cell_type": "code",
   "execution_count": 99,
   "metadata": {},
   "outputs": [],
   "source": [
    "import tensorflow as tf\n",
    "import sklearn\n",
    "from sklearn.preprocessing import OneHotEncoder\n",
    "import numpy as np\n",
    "import librosa\n",
    "from python_speech_features import mfcc"
   ]
  },
  {
   "cell_type": "code",
   "execution_count": 100,
   "metadata": {},
   "outputs": [
    {
     "data": {
      "text/plain": [
       "True"
      ]
     },
     "execution_count": 100,
     "metadata": {},
     "output_type": "execute_result"
    }
   ],
   "source": [
    "tf.test.is_gpu_available()"
   ]
  },
  {
   "cell_type": "markdown",
   "metadata": {},
   "source": [
    "# Generación de ficheros"
   ]
  },
  {
   "cell_type": "markdown",
   "metadata": {},
   "source": [
    "Esta función se encarga de generar un archivo txt de manera que este contenga 2 elementos por fila ('name_file','etiqueta') de esta manera permitirá poder entrenar la red."
   ]
  },
  {
   "cell_type": "code",
   "execution_count": 101,
   "metadata": {},
   "outputs": [],
   "source": [
    "import numpy as np\n",
    "import os\n",
    "def generate_file_data(dir,name):\n",
    "    directory=dir\n",
    "    #el nombre de los archivos posee el primer dígito en el nombre de esta forma permitirá etiquetarlos.\n",
    "    a={'0':'cero','1':'uno','2':'dos','3':'tres','4':'cuatro','5':'cinco','6':'seis','7':'siete','8':'ocho','9':'nueve'}\n",
    "    da=os.listdir(directory)\n",
    "    # ordena los archivos\n",
    "    da.sort()\n",
    "    file = open(dir+name+'.txt',\"w\")\n",
    "    for filename in da:\n",
    "        if '.wav' in filename:\n",
    "            file.write(filename+','+a[filename[0]]+'\\n')\n",
    "    file.close() \n",
    "    # genera el fichero\n",
    "    with open(directory+'/'+name+'.txt') as f:\n",
    "        read_data = f.read()\n",
    "        f.closed\n",
    "    read_data=read_data.split('\\n')\n",
    "    read_data=read_data[0:len(read_data)-1]\n",
    "    return read_data"
   ]
  },
  {
   "cell_type": "markdown",
   "metadata": {},
   "source": [
    "# Encoding words with One Hot Encoding"
   ]
  },
  {
   "cell_type": "code",
   "execution_count": 102,
   "metadata": {},
   "outputs": [],
   "source": [
    "from sklearn.preprocessing import OneHotEncoder\n",
    "vocabulary_words=np.array(['cero','uno','dos','tres','cuatro','cinco','seis','siete','ocho','nueve'])"
   ]
  },
  {
   "cell_type": "code",
   "execution_count": 103,
   "metadata": {},
   "outputs": [],
   "source": [
    "onehot_encoder = OneHotEncoder(handle_unknown='ignore',categories='auto')"
   ]
  },
  {
   "cell_type": "code",
   "execution_count": 104,
   "metadata": {},
   "outputs": [
    {
     "data": {
      "text/plain": [
       "OneHotEncoder(categorical_features=None, categories='auto',\n",
       "       dtype=<class 'numpy.float64'>, handle_unknown='ignore',\n",
       "       n_values=None, sparse=True)"
      ]
     },
     "execution_count": 104,
     "metadata": {},
     "output_type": "execute_result"
    }
   ],
   "source": [
    "onehot_encoder"
   ]
  },
  {
   "cell_type": "code",
   "execution_count": 105,
   "metadata": {},
   "outputs": [
    {
     "data": {
      "text/plain": [
       "array([['cero'],\n",
       "       ['uno'],\n",
       "       ['dos'],\n",
       "       ['tres'],\n",
       "       ['cuatro'],\n",
       "       ['cinco'],\n",
       "       ['seis'],\n",
       "       ['siete'],\n",
       "       ['ocho'],\n",
       "       ['nueve']], dtype='<U6')"
      ]
     },
     "execution_count": 105,
     "metadata": {},
     "output_type": "execute_result"
    }
   ],
   "source": [
    "vocabulary_words.reshape(-1,1)"
   ]
  },
  {
   "cell_type": "code",
   "execution_count": 106,
   "metadata": {},
   "outputs": [
    {
     "data": {
      "text/plain": [
       "OneHotEncoder(categorical_features=None, categories='auto',\n",
       "       dtype=<class 'numpy.float64'>, handle_unknown='ignore',\n",
       "       n_values=None, sparse=True)"
      ]
     },
     "execution_count": 106,
     "metadata": {},
     "output_type": "execute_result"
    }
   ],
   "source": [
    "onehot_encoder.fit(X=vocabulary_words.reshape(-1,1))"
   ]
  },
  {
   "cell_type": "code",
   "execution_count": 107,
   "metadata": {},
   "outputs": [
    {
     "data": {
      "text/plain": [
       "[array(['cero', 'cinco', 'cuatro', 'dos', 'nueve', 'ocho', 'seis', 'siete',\n",
       "        'tres', 'uno'], dtype='<U6')]"
      ]
     },
     "execution_count": 107,
     "metadata": {},
     "output_type": "execute_result"
    }
   ],
   "source": [
    "onehot_encoder.categories_"
   ]
  },
  {
   "cell_type": "code",
   "execution_count": 108,
   "metadata": {},
   "outputs": [],
   "source": [
    "v=onehot_encoder.transform(vocabulary_words.reshape(-1,1)).toarray()"
   ]
  },
  {
   "cell_type": "code",
   "execution_count": 109,
   "metadata": {},
   "outputs": [
    {
     "data": {
      "text/plain": [
       "array([[1., 0., 0., 0., 0., 0., 0., 0., 0., 0.],\n",
       "       [0., 0., 0., 0., 0., 0., 0., 0., 0., 1.],\n",
       "       [0., 0., 0., 1., 0., 0., 0., 0., 0., 0.],\n",
       "       [0., 0., 0., 0., 0., 0., 0., 0., 1., 0.],\n",
       "       [0., 0., 1., 0., 0., 0., 0., 0., 0., 0.],\n",
       "       [0., 1., 0., 0., 0., 0., 0., 0., 0., 0.],\n",
       "       [0., 0., 0., 0., 0., 0., 1., 0., 0., 0.],\n",
       "       [0., 0., 0., 0., 0., 0., 0., 1., 0., 0.],\n",
       "       [0., 0., 0., 0., 0., 1., 0., 0., 0., 0.],\n",
       "       [0., 0., 0., 0., 1., 0., 0., 0., 0., 0.]])"
      ]
     },
     "execution_count": 109,
     "metadata": {},
     "output_type": "execute_result"
    }
   ],
   "source": [
    "v"
   ]
  },
  {
   "cell_type": "code",
   "execution_count": 110,
   "metadata": {},
   "outputs": [
    {
     "data": {
      "text/plain": [
       "array([['cero'],\n",
       "       ['uno'],\n",
       "       ['dos'],\n",
       "       ['tres'],\n",
       "       ['cuatro'],\n",
       "       ['cinco'],\n",
       "       ['seis'],\n",
       "       ['siete'],\n",
       "       ['ocho'],\n",
       "       ['nueve']], dtype='<U6')"
      ]
     },
     "execution_count": 110,
     "metadata": {},
     "output_type": "execute_result"
    }
   ],
   "source": [
    "onehot_encoder.inverse_transform(v)"
   ]
  },
  {
   "cell_type": "code",
   "execution_count": 111,
   "metadata": {},
   "outputs": [],
   "source": [
    "def class_to_integer_encoded(n):# no srive\n",
    "    return integer_encoded[n]"
   ]
  },
  {
   "cell_type": "code",
   "execution_count": 112,
   "metadata": {},
   "outputs": [],
   "source": [
    "def encode(x):# tomará un array de string y lo transformada a encode\n",
    "    return onehot_encoder.transform(x.reshape(-1,1)).toarray()"
   ]
  },
  {
   "cell_type": "code",
   "execution_count": 113,
   "metadata": {},
   "outputs": [],
   "source": [
    "a=encode(np.array(['uno','dos']))"
   ]
  },
  {
   "cell_type": "code",
   "execution_count": 114,
   "metadata": {},
   "outputs": [
    {
     "data": {
      "text/plain": [
       "array([[0., 0., 0., 0., 0., 0., 0., 0., 0., 1.],\n",
       "       [0., 0., 0., 1., 0., 0., 0., 0., 0., 0.]])"
      ]
     },
     "execution_count": 114,
     "metadata": {},
     "output_type": "execute_result"
    }
   ],
   "source": [
    "a"
   ]
  },
  {
   "cell_type": "code",
   "execution_count": 115,
   "metadata": {},
   "outputs": [],
   "source": [
    "def decode(x):\n",
    "    return onehot_encoder.inverse_transform(x)\n"
   ]
  },
  {
   "cell_type": "code",
   "execution_count": 116,
   "metadata": {},
   "outputs": [
    {
     "data": {
      "text/plain": [
       "array([['uno'],\n",
       "       ['dos']], dtype='<U6')"
      ]
     },
     "execution_count": 116,
     "metadata": {},
     "output_type": "execute_result"
    }
   ],
   "source": [
    "decode(a)"
   ]
  },
  {
   "cell_type": "code",
   "execution_count": 117,
   "metadata": {},
   "outputs": [],
   "source": [
    "def to_text(m,mfcc):\n",
    "    label=m.predict_classes(mfcc)\n",
    "    text=label_encoder.inverse_transform(label)\n",
    "    text=text[0]\n",
    "    return text"
   ]
  },
  {
   "cell_type": "markdown",
   "metadata": {},
   "source": [
    "# MFCC \n"
   ]
  },
  {
   "cell_type": "code",
   "execution_count": 125,
   "metadata": {},
   "outputs": [],
   "source": [
    "def mfcc_features(DIR,list_dir):\n",
    "    mfcc_audios=[]\n",
    "    for dir in list_dir:\n",
    "        wave, sr = librosa.load(DIR+dir, mono=True)\n",
    "        features= librosa.feature.mfcc(wave, sr,n_mfcc=20)\n",
    "        #features = sklearn.preprocessing.scale(features, axis=1)\n",
    "        features=sklearn.preprocessing.normalize(features,axis=1)\n",
    "        try:\n",
    "            features=np.pad(features,((0,0),(0,160-len(features[0]))),mode='constant', constant_values=0)\n",
    "        except OSError as err:\n",
    "            print(dir)\n",
    "        mfcc_audios.append(features)\n",
    "    mfcc_audios=np.array(mfcc_audios)\n",
    "    return mfcc_audios"
   ]
  },
  {
   "cell_type": "code",
   "execution_count": 126,
   "metadata": {},
   "outputs": [],
   "source": [
    "def prepare_data(dir,name):\n",
    "    file = open(dir+name)\n",
    "    f=file.read()\n",
    "    file.close()\n",
    "    f=f.split('\\n')\n",
    "    f=f[0:len(f)-1]\n",
    "    labels=[]\n",
    "    names_audios=[]\n",
    "    for i in f:\n",
    "        j=i.split(',')\n",
    "        names_audios.append(j[0])\n",
    "        labels.append(j[1])\n",
    "    labels=np.array(labels)\n",
    "    onehot= encode(labels)\n",
    "    mfcc=mfcc_features(dir,names_audios)\n",
    "    print(name+' OK')\n",
    "    return mfcc,onehot\n",
    "\n"
   ]
  },
  {
   "cell_type": "code",
   "execution_count": 127,
   "metadata": {},
   "outputs": [],
   "source": [
    "class dataset:\n",
    "    def __init__(self,data):\n",
    "        self.i=0#para el shuffle\n",
    "        self.data_dir=data\n",
    "        self.shuffle=None\n",
    "        self.dir_training=data+'/training/'\n",
    "        self.dir_test=data+'/test/'\n",
    "        self.training_set=None\n",
    "        self.test_set=None\n",
    "    def split_dataset(self):\n",
    "        generate_file_data(self.dir_training,name='training')\n",
    "        generate_file_data(self.dir_test,name='test')\n",
    "        self.training_set=prepare_data(self.dir_training,'training.txt')\n",
    "        self.test_set=prepare_data(self.dir_test,'test.txt')\n",
    "\n",
    "    "
   ]
  },
  {
   "cell_type": "code",
   "execution_count": null,
   "metadata": {},
   "outputs": [],
   "source": []
  },
  {
   "cell_type": "code",
   "execution_count": 128,
   "metadata": {},
   "outputs": [
    {
     "name": "stdout",
     "output_type": "stream",
     "text": [
      "training.txt OK\n",
      "test.txt OK\n"
     ]
    }
   ],
   "source": [
    "d=dataset('data')\n",
    "d.split_dataset()"
   ]
  },
  {
   "cell_type": "code",
   "execution_count": 129,
   "metadata": {},
   "outputs": [
    {
     "data": {
      "text/plain": [
       "'data/test/'"
      ]
     },
     "execution_count": 129,
     "metadata": {},
     "output_type": "execute_result"
    }
   ],
   "source": [
    "d.dir_test"
   ]
  },
  {
   "cell_type": "code",
   "execution_count": 130,
   "metadata": {},
   "outputs": [
    {
     "data": {
      "text/plain": [
       "(array([[[-0.19981247, -0.1874131 , -0.17823835, ...,  0.        ,\n",
       "           0.        ,  0.        ],\n",
       "         [ 0.00211842,  0.061868  ,  0.09546465, ...,  0.        ,\n",
       "           0.        ,  0.        ],\n",
       "         [ 0.00393586,  0.06430282,  0.06565746, ...,  0.        ,\n",
       "           0.        ,  0.        ],\n",
       "         ...,\n",
       "         [-0.0059565 ,  0.02239813,  0.03174018, ...,  0.        ,\n",
       "           0.        ,  0.        ],\n",
       "         [-0.00131375,  0.06003447, -0.03365781, ...,  0.        ,\n",
       "           0.        ,  0.        ],\n",
       "         [-0.005851  ,  0.11509494,  0.02923995, ...,  0.        ,\n",
       "           0.        ,  0.        ]],\n",
       " \n",
       "        [[-0.1474977 , -0.14438292, -0.14035693, ...,  0.        ,\n",
       "           0.        ,  0.        ],\n",
       "         [ 0.        ,  0.02301636,  0.04979828, ...,  0.        ,\n",
       "           0.        ,  0.        ],\n",
       "         [ 0.        ,  0.03118334,  0.06120676, ...,  0.        ,\n",
       "           0.        ,  0.        ],\n",
       "         ...,\n",
       "         [ 0.        , -0.07059087, -0.07623239, ...,  0.        ,\n",
       "           0.        ,  0.        ],\n",
       "         [ 0.        , -0.0478587 , -0.04398861, ...,  0.        ,\n",
       "           0.        ,  0.        ],\n",
       "         [ 0.        , -0.03327289,  0.00130084, ...,  0.        ,\n",
       "           0.        ,  0.        ]],\n",
       " \n",
       "        [[-0.16302535, -0.1580532 , -0.15793571, ...,  0.        ,\n",
       "           0.        ,  0.        ],\n",
       "         [ 0.12632612,  0.11607715,  0.09541767, ...,  0.        ,\n",
       "           0.        ,  0.        ],\n",
       "         [ 0.32502644,  0.21287711,  0.08104958, ...,  0.        ,\n",
       "           0.        ,  0.        ],\n",
       "         ...,\n",
       "         [ 0.13206302,  0.12884586, -0.00521255, ...,  0.        ,\n",
       "           0.        ,  0.        ],\n",
       "         [-0.05885558, -0.03970922, -0.06491313, ...,  0.        ,\n",
       "           0.        ,  0.        ],\n",
       "         [ 0.04132996,  0.09610999, -0.01062307, ...,  0.        ,\n",
       "           0.        ,  0.        ]],\n",
       " \n",
       "        ...,\n",
       " \n",
       "        [[-0.14149538, -0.09056523, -0.06102281, ...,  0.        ,\n",
       "           0.        ,  0.        ],\n",
       "         [ 0.26186331,  0.29329884,  0.27128227, ...,  0.        ,\n",
       "           0.        ,  0.        ],\n",
       "         [ 0.16708532,  0.03638178, -0.06449703, ...,  0.        ,\n",
       "           0.        ,  0.        ],\n",
       "         ...,\n",
       "         [-0.38096261, -0.3817374 , -0.34614488, ...,  0.        ,\n",
       "           0.        ,  0.        ],\n",
       "         [-0.12056923, -0.09986274, -0.0010526 , ...,  0.        ,\n",
       "           0.        ,  0.        ],\n",
       "         [ 0.08599827,  0.0264701 , -0.10927774, ...,  0.        ,\n",
       "           0.        ,  0.        ]],\n",
       " \n",
       "        [[-0.19564099, -0.1394885 , -0.09602364, ...,  0.        ,\n",
       "           0.        ,  0.        ],\n",
       "         [ 0.15683986,  0.20838012,  0.21406775, ...,  0.        ,\n",
       "           0.        ,  0.        ],\n",
       "         [ 0.29621528,  0.15177746,  0.02538822, ...,  0.        ,\n",
       "           0.        ,  0.        ],\n",
       "         ...,\n",
       "         [-0.33588634, -0.28769384, -0.31922534, ...,  0.        ,\n",
       "           0.        ,  0.        ],\n",
       "         [-0.18477794, -0.14253397,  0.12636599, ...,  0.        ,\n",
       "           0.        ,  0.        ],\n",
       "         [-0.03616154, -0.0822103 , -0.18823239, ...,  0.        ,\n",
       "           0.        ,  0.        ]],\n",
       " \n",
       "        [[-0.12288192, -0.12288192, -0.12288192, ...,  0.        ,\n",
       "           0.        ,  0.        ],\n",
       "         [ 0.        ,  0.        ,  0.        , ...,  0.        ,\n",
       "           0.        ,  0.        ],\n",
       "         [ 0.        ,  0.        ,  0.        , ...,  0.        ,\n",
       "           0.        ,  0.        ],\n",
       "         ...,\n",
       "         [ 0.        ,  0.        ,  0.        , ...,  0.        ,\n",
       "           0.        ,  0.        ],\n",
       "         [ 0.        ,  0.        ,  0.        , ...,  0.        ,\n",
       "           0.        ,  0.        ],\n",
       "         [ 0.        ,  0.        ,  0.        , ...,  0.        ,\n",
       "           0.        ,  0.        ]]]), array([[1., 0., 0., ..., 0., 0., 0.],\n",
       "        [1., 0., 0., ..., 0., 0., 0.],\n",
       "        [1., 0., 0., ..., 0., 0., 0.],\n",
       "        ...,\n",
       "        [0., 0., 0., ..., 0., 0., 0.],\n",
       "        [0., 0., 0., ..., 0., 0., 0.],\n",
       "        [0., 0., 0., ..., 0., 0., 0.]]))"
      ]
     },
     "execution_count": 130,
     "metadata": {},
     "output_type": "execute_result"
    }
   ],
   "source": [
    "d.training_set"
   ]
  },
  {
   "cell_type": "code",
   "execution_count": 131,
   "metadata": {},
   "outputs": [
    {
     "data": {
      "text/plain": [
       "240"
      ]
     },
     "execution_count": 131,
     "metadata": {},
     "output_type": "execute_result"
    }
   ],
   "source": [
    "len(d.training_set[0])"
   ]
  },
  {
   "cell_type": "code",
   "execution_count": null,
   "metadata": {},
   "outputs": [],
   "source": [
    "#[d.training_set[0][i].shape for i in range(len(d.training_set[0]))] #will display numofcep"
   ]
  },
  {
   "cell_type": "code",
   "execution_count": 132,
   "metadata": {},
   "outputs": [
    {
     "data": {
      "text/plain": [
       "768000"
      ]
     },
     "execution_count": 132,
     "metadata": {},
     "output_type": "execute_result"
    }
   ],
   "source": [
    "np.size(d.training_set[0])"
   ]
  },
  {
   "cell_type": "code",
   "execution_count": 133,
   "metadata": {},
   "outputs": [
    {
     "data": {
      "text/plain": [
       "array([[[-0.17419944, -0.17313861, -0.16974107, ...,  0.        ,\n",
       "          0.        ,  0.        ],\n",
       "        [ 0.        ,  0.00864419,  0.03525551, ...,  0.        ,\n",
       "          0.        ,  0.        ],\n",
       "        [ 0.        ,  0.01998642,  0.07495819, ...,  0.        ,\n",
       "          0.        ,  0.        ],\n",
       "        ...,\n",
       "        [ 0.        , -0.07632924, -0.10600874, ...,  0.        ,\n",
       "          0.        ,  0.        ],\n",
       "        [ 0.        , -0.04517924, -0.05914144, ...,  0.        ,\n",
       "          0.        ,  0.        ],\n",
       "        [ 0.        , -0.05994333, -0.06392851, ...,  0.        ,\n",
       "          0.        ,  0.        ]],\n",
       "\n",
       "       [[-0.13191315, -0.12657437, -0.12563002, ...,  0.        ,\n",
       "          0.        ,  0.        ],\n",
       "        [ 0.12235815,  0.11213216,  0.0905721 , ...,  0.        ,\n",
       "          0.        ,  0.        ],\n",
       "        [ 0.349477  ,  0.179907  ,  0.0308347 , ...,  0.        ,\n",
       "          0.        ,  0.        ],\n",
       "        ...,\n",
       "        [ 0.09658694,  0.10798164,  0.12718308, ...,  0.        ,\n",
       "          0.        ,  0.        ],\n",
       "        [-0.00473038, -0.00725899,  0.09728452, ...,  0.        ,\n",
       "          0.        ,  0.        ],\n",
       "        [ 0.15127921,  0.18143073,  0.22574607, ...,  0.        ,\n",
       "          0.        ,  0.        ]],\n",
       "\n",
       "       [[-0.12098271, -0.12098271, -0.12098271, ...,  0.        ,\n",
       "          0.        ,  0.        ],\n",
       "        [ 0.        ,  0.        ,  0.        , ...,  0.        ,\n",
       "          0.        ,  0.        ],\n",
       "        [ 0.        ,  0.        ,  0.        , ...,  0.        ,\n",
       "          0.        ,  0.        ],\n",
       "        ...,\n",
       "        [ 0.        ,  0.        ,  0.        , ...,  0.        ,\n",
       "          0.        ,  0.        ],\n",
       "        [ 0.        ,  0.        ,  0.        , ...,  0.        ,\n",
       "          0.        ,  0.        ],\n",
       "        [ 0.        ,  0.        ,  0.        , ...,  0.        ,\n",
       "          0.        ,  0.        ]],\n",
       "\n",
       "       ...,\n",
       "\n",
       "       [[-0.28758996, -0.2465323 , -0.22025561, ...,  0.        ,\n",
       "          0.        ,  0.        ],\n",
       "        [ 0.13392759,  0.15197966,  0.15552852, ...,  0.        ,\n",
       "          0.        ,  0.        ],\n",
       "        [ 0.10355331, -0.05190362, -0.13018152, ...,  0.        ,\n",
       "          0.        ,  0.        ],\n",
       "        ...,\n",
       "        [ 0.14265864,  0.03794359, -0.01274022, ...,  0.        ,\n",
       "          0.        ,  0.        ],\n",
       "        [ 0.02975957, -0.02383786, -0.01210736, ...,  0.        ,\n",
       "          0.        ,  0.        ],\n",
       "        [ 0.02417657, -0.04669086, -0.10041927, ...,  0.        ,\n",
       "          0.        ,  0.        ]],\n",
       "\n",
       "       [[-0.14165838, -0.12154506, -0.11463419, ...,  0.        ,\n",
       "          0.        ,  0.        ],\n",
       "        [ 0.04329573,  0.09306749,  0.10615779, ...,  0.        ,\n",
       "          0.        ,  0.        ],\n",
       "        [ 0.08974082,  0.09112146,  0.0671353 , ...,  0.        ,\n",
       "          0.        ,  0.        ],\n",
       "        ...,\n",
       "        [ 0.06914339, -0.04947942, -0.16800387, ...,  0.        ,\n",
       "          0.        ,  0.        ],\n",
       "        [ 0.02630701, -0.06601711, -0.09836434, ...,  0.        ,\n",
       "          0.        ,  0.        ],\n",
       "        [ 0.01250268, -0.10017479, -0.07556881, ...,  0.        ,\n",
       "          0.        ,  0.        ]],\n",
       "\n",
       "       [[-0.19993916, -0.16874779, -0.15665358, ...,  0.        ,\n",
       "          0.        ,  0.        ],\n",
       "        [ 0.09436381,  0.14492418,  0.13408628, ...,  0.        ,\n",
       "          0.        ,  0.        ],\n",
       "        [ 0.15790954,  0.0881917 ,  0.0491697 , ...,  0.        ,\n",
       "          0.        ,  0.        ],\n",
       "        ...,\n",
       "        [-0.10397842, -0.02436613,  0.01856508, ...,  0.        ,\n",
       "          0.        ,  0.        ],\n",
       "        [-0.05936993,  0.07496139,  0.10588926, ...,  0.        ,\n",
       "          0.        ,  0.        ],\n",
       "        [ 0.01649714,  0.06373582,  0.11041022, ...,  0.        ,\n",
       "          0.        ,  0.        ]]])"
      ]
     },
     "execution_count": 133,
     "metadata": {},
     "output_type": "execute_result"
    }
   ],
   "source": [
    "d.test_set[0]"
   ]
  },
  {
   "cell_type": "code",
   "execution_count": 78,
   "metadata": {},
   "outputs": [
    {
     "data": {
      "text/plain": [
       "array([[1., 0., 0., ..., 0., 0., 0.],\n",
       "       [1., 0., 0., ..., 0., 0., 0.],\n",
       "       [1., 0., 0., ..., 0., 0., 0.],\n",
       "       ...,\n",
       "       [0., 0., 0., ..., 0., 0., 0.],\n",
       "       [0., 0., 0., ..., 0., 0., 0.],\n",
       "       [0., 0., 0., ..., 0., 0., 0.]])"
      ]
     },
     "execution_count": 78,
     "metadata": {},
     "output_type": "execute_result"
    }
   ],
   "source": [
    "d.test_set[1]"
   ]
  },
  {
   "cell_type": "markdown",
   "metadata": {},
   "source": [
    "# Red neuronal "
   ]
  },
  {
   "cell_type": "code",
   "execution_count": 134,
   "metadata": {},
   "outputs": [],
   "source": [
    "trainX, trainY = d.training_set[0],d.training_set[1]\n",
    "testX, testY = d.test_set[0],d.test_set[1]\n"
   ]
  },
  {
   "cell_type": "code",
   "execution_count": 135,
   "metadata": {},
   "outputs": [],
   "source": [
    "import sklearn"
   ]
  },
  {
   "cell_type": "code",
   "execution_count": 136,
   "metadata": {},
   "outputs": [],
   "source": [
    "trainX=np.matrix.transpose(trainX,[0,2,1])\n",
    "testX=np.matrix.transpose(testX,[0,2,1])"
   ]
  },
  {
   "cell_type": "code",
   "execution_count": 137,
   "metadata": {},
   "outputs": [
    {
     "data": {
      "text/plain": [
       "array([[[-0.19981247,  0.00211842,  0.00393586, ..., -0.0059565 ,\n",
       "         -0.00131375, -0.005851  ],\n",
       "        [-0.1874131 ,  0.061868  ,  0.06430282, ...,  0.02239813,\n",
       "          0.06003447,  0.11509494],\n",
       "        [-0.17823835,  0.09546465,  0.06565746, ...,  0.03174018,\n",
       "         -0.03365781,  0.02923995],\n",
       "        ...,\n",
       "        [ 0.        ,  0.        ,  0.        , ...,  0.        ,\n",
       "          0.        ,  0.        ],\n",
       "        [ 0.        ,  0.        ,  0.        , ...,  0.        ,\n",
       "          0.        ,  0.        ],\n",
       "        [ 0.        ,  0.        ,  0.        , ...,  0.        ,\n",
       "          0.        ,  0.        ]],\n",
       "\n",
       "       [[-0.1474977 ,  0.        ,  0.        , ...,  0.        ,\n",
       "          0.        ,  0.        ],\n",
       "        [-0.14438292,  0.02301636,  0.03118334, ..., -0.07059087,\n",
       "         -0.0478587 , -0.03327289],\n",
       "        [-0.14035693,  0.04979828,  0.06120676, ..., -0.07623239,\n",
       "         -0.04398861,  0.00130084],\n",
       "        ...,\n",
       "        [ 0.        ,  0.        ,  0.        , ...,  0.        ,\n",
       "          0.        ,  0.        ],\n",
       "        [ 0.        ,  0.        ,  0.        , ...,  0.        ,\n",
       "          0.        ,  0.        ],\n",
       "        [ 0.        ,  0.        ,  0.        , ...,  0.        ,\n",
       "          0.        ,  0.        ]],\n",
       "\n",
       "       [[-0.16302535,  0.12632612,  0.32502644, ...,  0.13206302,\n",
       "         -0.05885558,  0.04132996],\n",
       "        [-0.1580532 ,  0.11607715,  0.21287711, ...,  0.12884586,\n",
       "         -0.03970922,  0.09610999],\n",
       "        [-0.15793571,  0.09541767,  0.08104958, ..., -0.00521255,\n",
       "         -0.06491313, -0.01062307],\n",
       "        ...,\n",
       "        [ 0.        ,  0.        ,  0.        , ...,  0.        ,\n",
       "          0.        ,  0.        ],\n",
       "        [ 0.        ,  0.        ,  0.        , ...,  0.        ,\n",
       "          0.        ,  0.        ],\n",
       "        [ 0.        ,  0.        ,  0.        , ...,  0.        ,\n",
       "          0.        ,  0.        ]],\n",
       "\n",
       "       ...,\n",
       "\n",
       "       [[-0.14149538,  0.26186331,  0.16708532, ..., -0.38096261,\n",
       "         -0.12056923,  0.08599827],\n",
       "        [-0.09056523,  0.29329884,  0.03638178, ..., -0.3817374 ,\n",
       "         -0.09986274,  0.0264701 ],\n",
       "        [-0.06102281,  0.27128227, -0.06449703, ..., -0.34614488,\n",
       "         -0.0010526 , -0.10927774],\n",
       "        ...,\n",
       "        [ 0.        ,  0.        ,  0.        , ...,  0.        ,\n",
       "          0.        ,  0.        ],\n",
       "        [ 0.        ,  0.        ,  0.        , ...,  0.        ,\n",
       "          0.        ,  0.        ],\n",
       "        [ 0.        ,  0.        ,  0.        , ...,  0.        ,\n",
       "          0.        ,  0.        ]],\n",
       "\n",
       "       [[-0.19564099,  0.15683986,  0.29621528, ..., -0.33588634,\n",
       "         -0.18477794, -0.03616154],\n",
       "        [-0.1394885 ,  0.20838012,  0.15177746, ..., -0.28769384,\n",
       "         -0.14253397, -0.0822103 ],\n",
       "        [-0.09602364,  0.21406775,  0.02538822, ..., -0.31922534,\n",
       "          0.12636599, -0.18823239],\n",
       "        ...,\n",
       "        [ 0.        ,  0.        ,  0.        , ...,  0.        ,\n",
       "          0.        ,  0.        ],\n",
       "        [ 0.        ,  0.        ,  0.        , ...,  0.        ,\n",
       "          0.        ,  0.        ],\n",
       "        [ 0.        ,  0.        ,  0.        , ...,  0.        ,\n",
       "          0.        ,  0.        ]],\n",
       "\n",
       "       [[-0.12288192,  0.        ,  0.        , ...,  0.        ,\n",
       "          0.        ,  0.        ],\n",
       "        [-0.12288192,  0.        ,  0.        , ...,  0.        ,\n",
       "          0.        ,  0.        ],\n",
       "        [-0.12288192,  0.        ,  0.        , ...,  0.        ,\n",
       "          0.        ,  0.        ],\n",
       "        ...,\n",
       "        [ 0.        ,  0.        ,  0.        , ...,  0.        ,\n",
       "          0.        ,  0.        ],\n",
       "        [ 0.        ,  0.        ,  0.        , ...,  0.        ,\n",
       "          0.        ,  0.        ],\n",
       "        [ 0.        ,  0.        ,  0.        , ...,  0.        ,\n",
       "          0.        ,  0.        ]]])"
      ]
     },
     "execution_count": 137,
     "metadata": {},
     "output_type": "execute_result"
    }
   ],
   "source": [
    "trainX"
   ]
  },
  {
   "cell_type": "code",
   "execution_count": 138,
   "metadata": {},
   "outputs": [
    {
     "data": {
      "text/plain": [
       "array([[[-0.17419944,  0.        ,  0.        , ...,  0.        ,\n",
       "          0.        ,  0.        ],\n",
       "        [-0.17313861,  0.00864419,  0.01998642, ..., -0.07632924,\n",
       "         -0.04517924, -0.05994333],\n",
       "        [-0.16974107,  0.03525551,  0.07495819, ..., -0.10600874,\n",
       "         -0.05914144, -0.06392851],\n",
       "        ...,\n",
       "        [ 0.        ,  0.        ,  0.        , ...,  0.        ,\n",
       "          0.        ,  0.        ],\n",
       "        [ 0.        ,  0.        ,  0.        , ...,  0.        ,\n",
       "          0.        ,  0.        ],\n",
       "        [ 0.        ,  0.        ,  0.        , ...,  0.        ,\n",
       "          0.        ,  0.        ]],\n",
       "\n",
       "       [[-0.13191315,  0.12235815,  0.349477  , ...,  0.09658694,\n",
       "         -0.00473038,  0.15127921],\n",
       "        [-0.12657437,  0.11213216,  0.179907  , ...,  0.10798164,\n",
       "         -0.00725899,  0.18143073],\n",
       "        [-0.12563002,  0.0905721 ,  0.0308347 , ...,  0.12718308,\n",
       "          0.09728452,  0.22574607],\n",
       "        ...,\n",
       "        [ 0.        ,  0.        ,  0.        , ...,  0.        ,\n",
       "          0.        ,  0.        ],\n",
       "        [ 0.        ,  0.        ,  0.        , ...,  0.        ,\n",
       "          0.        ,  0.        ],\n",
       "        [ 0.        ,  0.        ,  0.        , ...,  0.        ,\n",
       "          0.        ,  0.        ]],\n",
       "\n",
       "       [[-0.12098271,  0.        ,  0.        , ...,  0.        ,\n",
       "          0.        ,  0.        ],\n",
       "        [-0.12098271,  0.        ,  0.        , ...,  0.        ,\n",
       "          0.        ,  0.        ],\n",
       "        [-0.12098271,  0.        ,  0.        , ...,  0.        ,\n",
       "          0.        ,  0.        ],\n",
       "        ...,\n",
       "        [ 0.        ,  0.        ,  0.        , ...,  0.        ,\n",
       "          0.        ,  0.        ],\n",
       "        [ 0.        ,  0.        ,  0.        , ...,  0.        ,\n",
       "          0.        ,  0.        ],\n",
       "        [ 0.        ,  0.        ,  0.        , ...,  0.        ,\n",
       "          0.        ,  0.        ]],\n",
       "\n",
       "       ...,\n",
       "\n",
       "       [[-0.28758996,  0.13392759,  0.10355331, ...,  0.14265864,\n",
       "          0.02975957,  0.02417657],\n",
       "        [-0.2465323 ,  0.15197966, -0.05190362, ...,  0.03794359,\n",
       "         -0.02383786, -0.04669086],\n",
       "        [-0.22025561,  0.15552852, -0.13018152, ..., -0.01274022,\n",
       "         -0.01210736, -0.10041927],\n",
       "        ...,\n",
       "        [ 0.        ,  0.        ,  0.        , ...,  0.        ,\n",
       "          0.        ,  0.        ],\n",
       "        [ 0.        ,  0.        ,  0.        , ...,  0.        ,\n",
       "          0.        ,  0.        ],\n",
       "        [ 0.        ,  0.        ,  0.        , ...,  0.        ,\n",
       "          0.        ,  0.        ]],\n",
       "\n",
       "       [[-0.14165838,  0.04329573,  0.08974082, ...,  0.06914339,\n",
       "          0.02630701,  0.01250268],\n",
       "        [-0.12154506,  0.09306749,  0.09112146, ..., -0.04947942,\n",
       "         -0.06601711, -0.10017479],\n",
       "        [-0.11463419,  0.10615779,  0.0671353 , ..., -0.16800387,\n",
       "         -0.09836434, -0.07556881],\n",
       "        ...,\n",
       "        [ 0.        ,  0.        ,  0.        , ...,  0.        ,\n",
       "          0.        ,  0.        ],\n",
       "        [ 0.        ,  0.        ,  0.        , ...,  0.        ,\n",
       "          0.        ,  0.        ],\n",
       "        [ 0.        ,  0.        ,  0.        , ...,  0.        ,\n",
       "          0.        ,  0.        ]],\n",
       "\n",
       "       [[-0.19993916,  0.09436381,  0.15790954, ..., -0.10397842,\n",
       "         -0.05936993,  0.01649714],\n",
       "        [-0.16874779,  0.14492418,  0.0881917 , ..., -0.02436613,\n",
       "          0.07496139,  0.06373582],\n",
       "        [-0.15665358,  0.13408628,  0.0491697 , ...,  0.01856508,\n",
       "          0.10588926,  0.11041022],\n",
       "        ...,\n",
       "        [ 0.        ,  0.        ,  0.        , ...,  0.        ,\n",
       "          0.        ,  0.        ],\n",
       "        [ 0.        ,  0.        ,  0.        , ...,  0.        ,\n",
       "          0.        ,  0.        ],\n",
       "        [ 0.        ,  0.        ,  0.        , ...,  0.        ,\n",
       "          0.        ,  0.        ]]])"
      ]
     },
     "execution_count": 138,
     "metadata": {},
     "output_type": "execute_result"
    }
   ],
   "source": [
    "testX"
   ]
  },
  {
   "cell_type": "code",
   "execution_count": 139,
   "metadata": {},
   "outputs": [],
   "source": [
    "import tensorflow as tf\n",
    "import time \n",
    "n_units=128\n",
    "time_steps=160\n",
    "n_inputs=20\n",
    "batch_size=10\n",
    "n_epochs=10\n",
    "n_class=10"
   ]
  },
  {
   "cell_type": "code",
   "execution_count": 145,
   "metadata": {},
   "outputs": [],
   "source": [
    "model=tf.keras.Sequential()\n",
    "model.add(tf.keras.layers.LSTM(n_units, input_shape=(time_steps,n_inputs)))#,return_sequences=True))\n",
    "#model.add(tf.keras)\n",
    "#model.add(tf.keras.layers.LSTM(n_units))#,return_sequences=True))\n",
    "model.add(tf.layers.Dense(n_class, activation='softmax'))\n",
    "model.compile(loss='categorical_crossentropy',optimizer='adam',metrics=['accuracy'])"
   ]
  },
  {
   "cell_type": "code",
   "execution_count": null,
   "metadata": {},
   "outputs": [
    {
     "name": "stdout",
     "output_type": "stream",
     "text": [
      "Train on 240 samples, validate on 110 samples\n",
      "Epoch 1/10\n",
      "240/240 [==============================] - 8s 34ms/step - loss: 2.3048 - acc: 0.0875 - val_loss: 2.3026 - val_acc: 0.1000\n",
      "Epoch 2/10\n",
      "240/240 [==============================] - 6s 23ms/step - loss: 2.3043 - acc: 0.0500 - val_loss: 2.3026 - val_acc: 0.1000\n",
      "Epoch 3/10\n",
      "240/240 [==============================] - 6s 23ms/step - loss: 2.3034 - acc: 0.0542 - val_loss: 2.3026 - val_acc: 0.1000\n",
      "Epoch 4/10\n",
      "240/240 [==============================] - 6s 24ms/step - loss: 2.3038 - acc: 0.0625 - val_loss: 2.3026 - val_acc: 0.1000\n",
      "Epoch 5/10\n",
      "240/240 [==============================] - 6s 24ms/step - loss: 2.3040 - acc: 0.0708 - val_loss: 2.3026 - val_acc: 0.1000\n",
      "Epoch 6/10\n",
      "240/240 [==============================] - 6s 24ms/step - loss: 2.3036 - acc: 0.0750 - val_loss: 2.3026 - val_acc: 0.1000\n",
      "Epoch 7/10\n",
      "240/240 [==============================] - 6s 24ms/step - loss: 2.3031 - acc: 0.0917 - val_loss: 2.3045 - val_acc: 0.1000\n",
      "Epoch 8/10\n",
      "240/240 [==============================] - 6s 24ms/step - loss: 2.3034 - acc: 0.0708 - val_loss: 2.3026 - val_acc: 0.1000\n",
      "Epoch 9/10\n",
      "240/240 [==============================] - 6s 24ms/step - loss: 2.3034 - acc: 0.1042 - val_loss: 2.3025 - val_acc: 0.0909\n",
      "Epoch 10/10\n",
      "240/240 [==============================] - 6s 24ms/step - loss: 2.3464 - acc: 0.1042 - val_loss: 2.3001 - val_acc: 0.1455\n",
      "Train on 240 samples, validate on 110 samples\n",
      "Epoch 1/10\n",
      "240/240 [==============================] - 6s 23ms/step - loss: 2.3033 - acc: 0.0917 - val_loss: 2.3028 - val_acc: 0.1000\n",
      "Epoch 2/10\n",
      "240/240 [==============================] - 6s 24ms/step - loss: 2.3039 - acc: 0.1000 - val_loss: 2.3028 - val_acc: 0.1000\n",
      "Epoch 3/10\n",
      "240/240 [==============================] - 6s 23ms/step - loss: 2.3035 - acc: 0.0917 - val_loss: 2.3027 - val_acc: 0.1000\n",
      "Epoch 4/10\n",
      "240/240 [==============================] - 6s 24ms/step - loss: 2.3037 - acc: 0.0833 - val_loss: 2.3026 - val_acc: 0.1000\n",
      "Epoch 5/10\n",
      "240/240 [==============================] - 6s 24ms/step - loss: 2.3036 - acc: 0.0667 - val_loss: 2.3026 - val_acc: 0.1000\n",
      "Epoch 6/10\n",
      "240/240 [==============================] - 6s 24ms/step - loss: 2.3034 - acc: 0.0792 - val_loss: 2.3027 - val_acc: 0.1000\n",
      "Epoch 7/10\n",
      "240/240 [==============================] - 6s 24ms/step - loss: 2.3035 - acc: 0.0625 - val_loss: 2.3026 - val_acc: 0.1000\n",
      "Epoch 8/10\n",
      "240/240 [==============================] - 6s 24ms/step - loss: 2.3036 - acc: 0.0625 - val_loss: 2.3026 - val_acc: 0.1000\n",
      "Epoch 9/10\n",
      "240/240 [==============================] - 6s 24ms/step - loss: 2.3032 - acc: 0.0667 - val_loss: 2.3026 - val_acc: 0.1000\n",
      "Epoch 10/10\n",
      "240/240 [==============================] - 6s 24ms/step - loss: 2.3031 - acc: 0.0917 - val_loss: 2.3026 - val_acc: 0.1000\n",
      "Train on 240 samples, validate on 110 samples\n",
      "Epoch 1/10\n",
      "240/240 [==============================] - 6s 24ms/step - loss: 2.3037 - acc: 0.0500 - val_loss: 2.3026 - val_acc: 0.1000\n",
      "Epoch 2/10\n",
      "240/240 [==============================] - 7s 28ms/step - loss: 2.3036 - acc: 0.0750 - val_loss: 2.3026 - val_acc: 0.1000\n",
      "Epoch 3/10\n",
      "240/240 [==============================] - 6s 25ms/step - loss: 2.3034 - acc: 0.0750 - val_loss: 2.3026 - val_acc: 0.1000\n",
      "Epoch 4/10\n",
      "240/240 [==============================] - 6s 23ms/step - loss: 2.3035 - acc: 0.0583 - val_loss: 2.3026 - val_acc: 0.1000\n",
      "Epoch 5/10\n",
      "240/240 [==============================] - 6s 24ms/step - loss: 2.3033 - acc: 0.0958 - val_loss: 2.3026 - val_acc: 0.1000\n",
      "Epoch 6/10\n",
      "240/240 [==============================] - 6s 24ms/step - loss: 2.3035 - acc: 0.0667 - val_loss: 2.3026 - val_acc: 0.1000\n",
      "Epoch 7/10\n",
      "240/240 [==============================] - 6s 23ms/step - loss: 2.3041 - acc: 0.0542 - val_loss: 2.3026 - val_acc: 0.1000\n",
      "Epoch 8/10\n",
      "240/240 [==============================] - 6s 24ms/step - loss: 2.3030 - acc: 0.1000 - val_loss: 2.3026 - val_acc: 0.1000\n",
      "Epoch 9/10\n",
      "240/240 [==============================] - 6s 23ms/step - loss: 2.3035 - acc: 0.0875 - val_loss: 2.3026 - val_acc: 0.1000\n",
      "Epoch 10/10\n",
      "240/240 [==============================] - 6s 24ms/step - loss: 2.3035 - acc: 0.0833 - val_loss: 2.3026 - val_acc: 0.1000\n",
      "Train on 240 samples, validate on 110 samples\n",
      "Epoch 1/10\n",
      "240/240 [==============================] - 6s 24ms/step - loss: 2.3033 - acc: 0.1042 - val_loss: 2.3026 - val_acc: 0.1000\n",
      "Epoch 2/10\n",
      "240/240 [==============================] - 6s 24ms/step - loss: 2.3034 - acc: 0.0708 - val_loss: 2.3026 - val_acc: 0.1000\n",
      "Epoch 3/10\n",
      "240/240 [==============================] - 6s 23ms/step - loss: 2.3036 - acc: 0.0667 - val_loss: 2.3026 - val_acc: 0.1000\n",
      "Epoch 4/10\n",
      "240/240 [==============================] - 6s 24ms/step - loss: 2.3032 - acc: 0.0958 - val_loss: 2.3026 - val_acc: 0.1000\n",
      "Epoch 5/10\n",
      "240/240 [==============================] - 5s 23ms/step - loss: 2.3031 - acc: 0.0708 - val_loss: 2.3026 - val_acc: 0.1000\n",
      "Epoch 6/10\n",
      "240/240 [==============================] - 6s 23ms/step - loss: 2.3031 - acc: 0.0917 - val_loss: 2.3026 - val_acc: 0.1000\n",
      "Epoch 7/10\n",
      "240/240 [==============================] - 6s 23ms/step - loss: 2.3034 - acc: 0.0500 - val_loss: 2.3026 - val_acc: 0.1000\n",
      "Epoch 8/10\n",
      "240/240 [==============================] - 5s 23ms/step - loss: 2.3035 - acc: 0.0750 - val_loss: 2.3026 - val_acc: 0.1000\n",
      "Epoch 9/10\n",
      "240/240 [==============================] - 6s 23ms/step - loss: 2.3031 - acc: 0.0792 - val_loss: 2.3026 - val_acc: 0.1000\n",
      "Epoch 10/10\n",
      "240/240 [==============================] - 5s 23ms/step - loss: 2.3035 - acc: 0.1042 - val_loss: 2.3026 - val_acc: 0.1000\n",
      "Train on 240 samples, validate on 110 samples\n",
      "Epoch 1/10\n",
      "240/240 [==============================] - 5s 23ms/step - loss: 2.3037 - acc: 0.0958 - val_loss: 2.3026 - val_acc: 0.1000\n",
      "Epoch 2/10\n",
      "240/240 [==============================] - 6s 23ms/step - loss: 2.3033 - acc: 0.0875 - val_loss: 2.3026 - val_acc: 0.1000\n",
      "Epoch 3/10\n",
      "240/240 [==============================] - 5s 23ms/step - loss: 2.3034 - acc: 0.0958 - val_loss: 2.3026 - val_acc: 0.1000\n",
      "Epoch 4/10\n",
      "240/240 [==============================] - 6s 23ms/step - loss: 2.3032 - acc: 0.0917 - val_loss: 2.3026 - val_acc: 0.1000\n",
      "Epoch 5/10\n",
      "240/240 [==============================] - 6s 23ms/step - loss: 2.3031 - acc: 0.0792 - val_loss: 2.3026 - val_acc: 0.1000\n",
      "Epoch 6/10\n",
      "240/240 [==============================] - 6s 23ms/step - loss: 2.3032 - acc: 0.0958 - val_loss: 2.3026 - val_acc: 0.1000\n",
      "Epoch 7/10\n",
      "240/240 [==============================] - 6s 23ms/step - loss: 2.3036 - acc: 0.0958 - val_loss: 2.3026 - val_acc: 0.1000\n",
      "Epoch 8/10\n",
      "240/240 [==============================] - 5s 23ms/step - loss: 2.3034 - acc: 0.0708 - val_loss: 2.3026 - val_acc: 0.1000\n",
      "Epoch 9/10\n",
      "240/240 [==============================] - 6s 23ms/step - loss: 2.3033 - acc: 0.0833 - val_loss: 2.3026 - val_acc: 0.1000\n",
      "Epoch 10/10\n",
      "240/240 [==============================] - 6s 23ms/step - loss: 2.3035 - acc: 0.0750 - val_loss: 2.3026 - val_acc: 0.1000\n",
      "Train on 240 samples, validate on 110 samples\n",
      "Epoch 1/10\n",
      "240/240 [==============================] - 5s 23ms/step - loss: 2.3029 - acc: 0.0917 - val_loss: 2.3026 - val_acc: 0.1000\n",
      "Epoch 2/10\n",
      "240/240 [==============================] - 6s 23ms/step - loss: 2.3030 - acc: 0.0833 - val_loss: 2.3026 - val_acc: 0.1000\n",
      "Epoch 3/10\n",
      "240/240 [==============================] - 5s 23ms/step - loss: 2.3033 - acc: 0.0750 - val_loss: 2.3026 - val_acc: 0.1000\n",
      "Epoch 4/10\n",
      "240/240 [==============================] - 5s 23ms/step - loss: 2.3031 - acc: 0.0833 - val_loss: 2.3026 - val_acc: 0.1000\n",
      "Epoch 5/10\n",
      "240/240 [==============================] - 5s 23ms/step - loss: 2.3031 - acc: 0.0792 - val_loss: 2.3026 - val_acc: 0.1000\n",
      "Epoch 6/10\n",
      "240/240 [==============================] - 6s 23ms/step - loss: 2.3030 - acc: 0.0833 - val_loss: 2.3026 - val_acc: 0.1000\n",
      "Epoch 7/10\n",
      "240/240 [==============================] - 6s 23ms/step - loss: 2.3029 - acc: 0.0833 - val_loss: 2.3026 - val_acc: 0.1000\n",
      "Epoch 8/10\n",
      "240/240 [==============================] - 5s 23ms/step - loss: 2.3029 - acc: 0.1042 - val_loss: 2.3025 - val_acc: 0.1000\n",
      "Epoch 9/10\n",
      "240/240 [==============================] - 5s 23ms/step - loss: 2.3014 - acc: 0.0750 - val_loss: 2.3025 - val_acc: 0.1000\n",
      "Epoch 10/10\n"
     ]
    },
    {
     "name": "stdout",
     "output_type": "stream",
     "text": [
      "240/240 [==============================] - 5s 23ms/step - loss: 2.3465 - acc: 0.0542 - val_loss: 2.3114 - val_acc: 0.1000\n",
      "Train on 240 samples, validate on 110 samples\n",
      "Epoch 1/10\n",
      "240/240 [==============================] - 5s 23ms/step - loss: 2.3255 - acc: 0.0625 - val_loss: 2.3064 - val_acc: 0.1000\n",
      "Epoch 2/10\n",
      "240/240 [==============================] - 5s 23ms/step - loss: 2.3103 - acc: 0.0833 - val_loss: 2.3039 - val_acc: 0.1000\n",
      "Epoch 3/10\n",
      "240/240 [==============================] - 6s 23ms/step - loss: 2.3116 - acc: 0.0833 - val_loss: 2.3034 - val_acc: 0.1000\n",
      "Epoch 4/10\n",
      "240/240 [==============================] - 5s 23ms/step - loss: 2.3089 - acc: 0.1000 - val_loss: 2.3030 - val_acc: 0.1000\n",
      "Epoch 5/10\n",
      "240/240 [==============================] - 5s 23ms/step - loss: 2.3106 - acc: 0.0917 - val_loss: 2.3030 - val_acc: 0.1000\n",
      "Epoch 6/10\n",
      "240/240 [==============================] - 5s 23ms/step - loss: 2.3038 - acc: 0.0708 - val_loss: 2.3026 - val_acc: 0.1000\n",
      "Epoch 7/10\n",
      "240/240 [==============================] - 5s 23ms/step - loss: 2.3033 - acc: 0.0875 - val_loss: 2.3026 - val_acc: 0.1000\n",
      "Epoch 8/10\n",
      "240/240 [==============================] - 5s 23ms/step - loss: 2.3032 - acc: 0.1000 - val_loss: 2.3026 - val_acc: 0.0909\n",
      "Epoch 9/10\n",
      "240/240 [==============================] - 5s 23ms/step - loss: 2.3031 - acc: 0.1042 - val_loss: 2.3025 - val_acc: 0.1000\n",
      "Epoch 10/10\n",
      "240/240 [==============================] - 5s 23ms/step - loss: 2.3025 - acc: 0.0792 - val_loss: 2.3017 - val_acc: 0.1182\n",
      "Train on 240 samples, validate on 110 samples\n",
      "Epoch 1/10\n",
      "240/240 [==============================] - 6s 23ms/step - loss: 2.3026 - acc: 0.1000 - val_loss: 2.3010 - val_acc: 0.1000\n",
      "Epoch 2/10\n",
      "240/240 [==============================] - 6s 23ms/step - loss: 2.3025 - acc: 0.1083 - val_loss: 2.3028 - val_acc: 0.1182\n",
      "Epoch 3/10\n",
      "240/240 [==============================] - 6s 23ms/step - loss: 2.2978 - acc: 0.1042 - val_loss: 2.3032 - val_acc: 0.1000\n",
      "Epoch 4/10\n",
      "240/240 [==============================] - 5s 23ms/step - loss: 2.3044 - acc: 0.0875 - val_loss: 2.3030 - val_acc: 0.1000\n",
      "Epoch 5/10\n",
      "240/240 [==============================] - 5s 23ms/step - loss: 2.3038 - acc: 0.0833 - val_loss: 2.3028 - val_acc: 0.1000\n",
      "Epoch 6/10\n",
      "240/240 [==============================] - 5s 23ms/step - loss: 2.3036 - acc: 0.1000 - val_loss: 2.3029 - val_acc: 0.1000\n",
      "Epoch 7/10\n",
      "240/240 [==============================] - 5s 23ms/step - loss: 2.3028 - acc: 0.1000 - val_loss: 2.3028 - val_acc: 0.1000\n",
      "Epoch 8/10\n",
      "240/240 [==============================] - 5s 23ms/step - loss: 2.3029 - acc: 0.1042 - val_loss: 2.3028 - val_acc: 0.1091\n",
      "Epoch 9/10\n",
      "240/240 [==============================] - 6s 24ms/step - loss: 2.3020 - acc: 0.1042 - val_loss: 2.3068 - val_acc: 0.1091\n",
      "Epoch 10/10\n",
      "240/240 [==============================] - 6s 23ms/step - loss: 2.3201 - acc: 0.0833 - val_loss: 2.3058 - val_acc: 0.0909\n",
      "Train on 240 samples, validate on 110 samples\n",
      "Epoch 1/10\n",
      "240/240 [==============================] - 6s 24ms/step - loss: 2.3121 - acc: 0.0667 - val_loss: 2.3032 - val_acc: 0.1000\n",
      "Epoch 2/10\n",
      "240/240 [==============================] - 6s 23ms/step - loss: 2.3084 - acc: 0.0708 - val_loss: 2.3033 - val_acc: 0.1000\n",
      "Epoch 3/10\n",
      "240/240 [==============================] - 5s 23ms/step - loss: 2.3088 - acc: 0.0750 - val_loss: 2.3029 - val_acc: 0.1000\n",
      "Epoch 4/10\n",
      "240/240 [==============================] - 5s 23ms/step - loss: 2.3054 - acc: 0.0833 - val_loss: 2.3026 - val_acc: 0.1091\n",
      "Epoch 5/10\n",
      "240/240 [==============================] - 5s 23ms/step - loss: 2.3031 - acc: 0.0917 - val_loss: 2.3027 - val_acc: 0.0909\n",
      "Epoch 6/10\n",
      "240/240 [==============================] - 6s 23ms/step - loss: 2.3028 - acc: 0.0750 - val_loss: 2.3027 - val_acc: 0.1091\n",
      "Epoch 7/10\n",
      "240/240 [==============================] - 5s 23ms/step - loss: 2.3026 - acc: 0.0917 - val_loss: 2.3026 - val_acc: 0.1273\n",
      "Epoch 8/10\n",
      "240/240 [==============================] - 6s 23ms/step - loss: 2.3024 - acc: 0.0792 - val_loss: 2.3024 - val_acc: 0.1091\n",
      "Epoch 9/10\n",
      "240/240 [==============================] - 6s 23ms/step - loss: 2.3025 - acc: 0.1000 - val_loss: 2.3024 - val_acc: 0.1000\n",
      "Epoch 10/10\n",
      "240/240 [==============================] - 6s 24ms/step - loss: 2.3025 - acc: 0.0750 - val_loss: 2.3029 - val_acc: 0.1000\n",
      "Train on 240 samples, validate on 110 samples\n",
      "Epoch 1/10\n",
      "240/240 [==============================] - 6s 23ms/step - loss: 2.3017 - acc: 0.1292 - val_loss: 2.3029 - val_acc: 0.1000\n",
      "Epoch 2/10\n",
      "240/240 [==============================] - 5s 23ms/step - loss: 2.3030 - acc: 0.1000 - val_loss: 2.3028 - val_acc: 0.1000\n",
      "Epoch 3/10\n",
      "240/240 [==============================] - 6s 23ms/step - loss: 2.3035 - acc: 0.1000 - val_loss: 2.3027 - val_acc: 0.1000\n",
      "Epoch 4/10\n",
      "240/240 [==============================] - 6s 23ms/step - loss: 2.3031 - acc: 0.1000 - val_loss: 2.3027 - val_acc: 0.1000\n",
      "Epoch 5/10\n",
      "240/240 [==============================] - 5s 23ms/step - loss: 2.3031 - acc: 0.0792 - val_loss: 2.3027 - val_acc: 0.1000\n",
      "Epoch 6/10\n",
      "240/240 [==============================] - 6s 23ms/step - loss: 2.3027 - acc: 0.1000 - val_loss: 2.3026 - val_acc: 0.1000\n",
      "Epoch 7/10\n",
      "240/240 [==============================] - 6s 23ms/step - loss: 2.3032 - acc: 0.0792 - val_loss: 2.3027 - val_acc: 0.1000\n",
      "Epoch 8/10\n",
      "240/240 [==============================] - 5s 23ms/step - loss: 2.3018 - acc: 0.1042 - val_loss: 2.3027 - val_acc: 0.1182\n",
      "Epoch 9/10\n",
      "240/240 [==============================] - 5s 23ms/step - loss: 2.3026 - acc: 0.0875 - val_loss: 2.3069 - val_acc: 0.1000\n",
      "Epoch 10/10\n",
      "240/240 [==============================] - 6s 24ms/step - loss: 2.3039 - acc: 0.1000 - val_loss: 2.3032 - val_acc: 0.1000\n",
      "Train on 240 samples, validate on 110 samples\n",
      "Epoch 1/10\n",
      "240/240 [==============================] - 6s 23ms/step - loss: 2.3033 - acc: 0.0708 - val_loss: 2.3036 - val_acc: 0.1091\n",
      "Epoch 2/10\n",
      "240/240 [==============================] - 6s 23ms/step - loss: 2.3025 - acc: 0.0958 - val_loss: 2.3013 - val_acc: 0.1000\n",
      "Epoch 3/10\n",
      "240/240 [==============================] - 5s 23ms/step - loss: 2.3029 - acc: 0.0917 - val_loss: 2.3032 - val_acc: 0.1000\n",
      "Epoch 4/10\n",
      "240/240 [==============================] - 5s 23ms/step - loss: 2.3028 - acc: 0.1042 - val_loss: 2.3104 - val_acc: 0.0909\n",
      "Epoch 5/10\n",
      "240/240 [==============================] - 6s 23ms/step - loss: 2.3039 - acc: 0.1042 - val_loss: 2.2956 - val_acc: 0.1091\n",
      "Epoch 6/10\n",
      "240/240 [==============================] - 6s 23ms/step - loss: 2.2919 - acc: 0.1250 - val_loss: 2.2959 - val_acc: 0.1182\n",
      "Epoch 7/10\n",
      "240/240 [==============================] - 5s 23ms/step - loss: 2.2901 - acc: 0.1292 - val_loss: 2.2963 - val_acc: 0.1182\n",
      "Epoch 8/10\n",
      "240/240 [==============================] - 5s 23ms/step - loss: 2.2859 - acc: 0.1250 - val_loss: 2.2940 - val_acc: 0.1182\n",
      "Epoch 9/10\n",
      "240/240 [==============================] - 6s 23ms/step - loss: 2.2909 - acc: 0.1292 - val_loss: 2.2998 - val_acc: 0.1182\n",
      "Epoch 10/10\n",
      "240/240 [==============================] - 5s 23ms/step - loss: 2.2917 - acc: 0.1375 - val_loss: 2.3037 - val_acc: 0.1000\n",
      "Train on 240 samples, validate on 110 samples\n",
      "Epoch 1/10\n",
      "240/240 [==============================] - 5s 23ms/step - loss: 2.2926 - acc: 0.1083 - val_loss: 2.2958 - val_acc: 0.1000\n",
      "Epoch 2/10\n",
      "240/240 [==============================] - 5s 23ms/step - loss: 2.3427 - acc: 0.0833 - val_loss: 2.3101 - val_acc: 0.1000\n",
      "Epoch 3/10\n",
      "240/240 [==============================] - 6s 23ms/step - loss: 2.3270 - acc: 0.0875 - val_loss: 2.3047 - val_acc: 0.1000\n",
      "Epoch 4/10\n",
      "240/240 [==============================] - 6s 23ms/step - loss: 2.3134 - acc: 0.0958 - val_loss: 2.3043 - val_acc: 0.1000\n",
      "Epoch 5/10\n",
      "240/240 [==============================] - 6s 23ms/step - loss: 2.3086 - acc: 0.0583 - val_loss: 2.3030 - val_acc: 0.1000\n",
      "Epoch 6/10\n",
      "240/240 [==============================] - 5s 23ms/step - loss: 2.3082 - acc: 0.0625 - val_loss: 2.3029 - val_acc: 0.1000\n",
      "Epoch 7/10\n",
      "240/240 [==============================] - 6s 23ms/step - loss: 2.3106 - acc: 0.0750 - val_loss: 2.3036 - val_acc: 0.1000\n",
      "Epoch 8/10\n",
      "240/240 [==============================] - 5s 23ms/step - loss: 2.3083 - acc: 0.0792 - val_loss: 2.3031 - val_acc: 0.1000\n",
      "Epoch 9/10\n"
     ]
    },
    {
     "name": "stdout",
     "output_type": "stream",
     "text": [
      "240/240 [==============================] - 5s 23ms/step - loss: 2.3066 - acc: 0.0833 - val_loss: 2.3034 - val_acc: 0.1091\n",
      "Epoch 10/10\n",
      "240/240 [==============================] - 5s 23ms/step - loss: 2.3058 - acc: 0.0958 - val_loss: 2.3029 - val_acc: 0.1000\n",
      "Train on 240 samples, validate on 110 samples\n",
      "Epoch 1/10\n",
      "240/240 [==============================] - 6s 23ms/step - loss: 2.3065 - acc: 0.0708 - val_loss: 2.3019 - val_acc: 0.1000\n",
      "Epoch 2/10\n",
      "240/240 [==============================] - 5s 23ms/step - loss: 2.3051 - acc: 0.1042 - val_loss: 2.3020 - val_acc: 0.1091\n",
      "Epoch 3/10\n",
      "240/240 [==============================] - 5s 23ms/step - loss: 2.3054 - acc: 0.0833 - val_loss: 2.3035 - val_acc: 0.1000\n",
      "Epoch 4/10\n",
      "240/240 [==============================] - 6s 23ms/step - loss: 2.3056 - acc: 0.1042 - val_loss: 2.3042 - val_acc: 0.1000\n",
      "Epoch 5/10\n",
      "240/240 [==============================] - 5s 23ms/step - loss: 2.3060 - acc: 0.1042 - val_loss: 2.3035 - val_acc: 0.1000\n",
      "Epoch 6/10\n",
      "240/240 [==============================] - 6s 23ms/step - loss: 2.3084 - acc: 0.1000 - val_loss: 2.3047 - val_acc: 0.1000\n",
      "Epoch 7/10\n",
      "240/240 [==============================] - 6s 23ms/step - loss: 2.3140 - acc: 0.1000 - val_loss: 2.3040 - val_acc: 0.1000\n",
      "Epoch 8/10\n",
      "240/240 [==============================] - 5s 23ms/step - loss: 2.3176 - acc: 0.0792 - val_loss: 2.3032 - val_acc: 0.1000\n",
      "Epoch 9/10\n",
      "240/240 [==============================] - 5s 23ms/step - loss: 2.3095 - acc: 0.0958 - val_loss: 2.3034 - val_acc: 0.1000\n",
      "Epoch 10/10\n",
      "240/240 [==============================] - 5s 23ms/step - loss: 2.3126 - acc: 0.0917 - val_loss: 2.3036 - val_acc: 0.1000\n",
      "Train on 240 samples, validate on 110 samples\n",
      "Epoch 1/10\n",
      "240/240 [==============================] - 6s 23ms/step - loss: 2.3092 - acc: 0.0708 - val_loss: 2.3028 - val_acc: 0.1000\n",
      "Epoch 2/10\n",
      "240/240 [==============================] - 5s 23ms/step - loss: 2.3076 - acc: 0.0875 - val_loss: 2.3030 - val_acc: 0.1000\n",
      "Epoch 3/10\n",
      "240/240 [==============================] - 5s 23ms/step - loss: 2.3087 - acc: 0.0875 - val_loss: 2.3030 - val_acc: 0.1000\n",
      "Epoch 4/10\n",
      "240/240 [==============================] - 6s 23ms/step - loss: 2.3074 - acc: 0.0708 - val_loss: 2.3028 - val_acc: 0.1000\n",
      "Epoch 5/10\n",
      "240/240 [==============================] - 6s 23ms/step - loss: 2.3074 - acc: 0.0875 - val_loss: 2.3027 - val_acc: 0.1000\n",
      "Epoch 6/10\n",
      "240/240 [==============================] - 6s 24ms/step - loss: 2.3076 - acc: 0.0667 - val_loss: 2.3029 - val_acc: 0.1000\n",
      "Epoch 7/10\n",
      "240/240 [==============================] - 6s 23ms/step - loss: 2.3064 - acc: 0.0792 - val_loss: 2.3028 - val_acc: 0.1000\n",
      "Epoch 8/10\n",
      "240/240 [==============================] - 6s 23ms/step - loss: 2.3074 - acc: 0.0833 - val_loss: 2.3027 - val_acc: 0.1000\n",
      "Epoch 9/10\n",
      "240/240 [==============================] - 6s 23ms/step - loss: 2.3074 - acc: 0.0708 - val_loss: 2.3027 - val_acc: 0.1000\n",
      "Epoch 10/10\n",
      "240/240 [==============================] - 6s 23ms/step - loss: 2.3068 - acc: 0.0833 - val_loss: 2.3030 - val_acc: 0.1000\n",
      "Train on 240 samples, validate on 110 samples\n",
      "Epoch 1/10\n",
      "240/240 [==============================] - 6s 23ms/step - loss: 2.3086 - acc: 0.0750 - val_loss: 2.3030 - val_acc: 0.1000\n",
      "Epoch 2/10\n",
      "240/240 [==============================] - 5s 23ms/step - loss: 2.3071 - acc: 0.0667 - val_loss: 2.3029 - val_acc: 0.1000\n",
      "Epoch 3/10\n",
      "240/240 [==============================] - 5s 23ms/step - loss: 2.3073 - acc: 0.1000 - val_loss: 2.3028 - val_acc: 0.1000\n",
      "Epoch 4/10\n",
      "240/240 [==============================] - 6s 23ms/step - loss: 2.3058 - acc: 0.0583 - val_loss: 2.3027 - val_acc: 0.1000\n",
      "Epoch 5/10\n",
      "240/240 [==============================] - 5s 23ms/step - loss: 2.3053 - acc: 0.0792 - val_loss: 2.3027 - val_acc: 0.1000\n",
      "Epoch 6/10\n",
      "240/240 [==============================] - 5s 23ms/step - loss: 2.3062 - acc: 0.0833 - val_loss: 2.3028 - val_acc: 0.1000\n",
      "Epoch 7/10\n",
      "240/240 [==============================] - 6s 23ms/step - loss: 2.3071 - acc: 0.0583 - val_loss: 2.3028 - val_acc: 0.1000\n",
      "Epoch 8/10\n",
      "240/240 [==============================] - 6s 23ms/step - loss: 2.3069 - acc: 0.0542 - val_loss: 2.3027 - val_acc: 0.1000\n",
      "Epoch 9/10\n",
      "240/240 [==============================] - 5s 23ms/step - loss: 2.3063 - acc: 0.0875 - val_loss: 2.3027 - val_acc: 0.1000\n",
      "Epoch 10/10\n",
      "240/240 [==============================] - 6s 23ms/step - loss: 2.3070 - acc: 0.0792 - val_loss: 2.3028 - val_acc: 0.1000\n",
      "Train on 240 samples, validate on 110 samples\n",
      "Epoch 1/10\n",
      "240/240 [==============================] - 5s 23ms/step - loss: 2.3069 - acc: 0.0625 - val_loss: 2.3027 - val_acc: 0.1000\n",
      "Epoch 2/10\n",
      "240/240 [==============================] - 6s 23ms/step - loss: 2.3060 - acc: 0.0792 - val_loss: 2.3028 - val_acc: 0.1000\n",
      "Epoch 3/10\n",
      "240/240 [==============================] - 7s 29ms/step - loss: 2.3052 - acc: 0.0708 - val_loss: 2.3026 - val_acc: 0.1000\n",
      "Epoch 4/10\n",
      "240/240 [==============================] - 7s 30ms/step - loss: 2.3054 - acc: 0.0667 - val_loss: 2.3027 - val_acc: 0.1000\n",
      "Epoch 5/10\n",
      "240/240 [==============================] - 6s 25ms/step - loss: 2.3066 - acc: 0.0833 - val_loss: 2.3027 - val_acc: 0.1000\n",
      "Epoch 6/10\n",
      "240/240 [==============================] - 6s 24ms/step - loss: 2.3057 - acc: 0.0750 - val_loss: 2.3027 - val_acc: 0.1000\n",
      "Epoch 7/10\n",
      "240/240 [==============================] - 6s 25ms/step - loss: 2.3071 - acc: 0.0792 - val_loss: 2.3028 - val_acc: 0.1000\n",
      "Epoch 8/10\n",
      "180/240 [=====================>........] - ETA: 1s - loss: 2.3054 - acc: 0.0944"
     ]
    }
   ],
   "source": [
    "ti=time.time()\n",
    "for i in range(100):\n",
    "    result=model.fit(trainX,trainY,batch_size=batch_size,epochs=n_epochs,validation_data=[testX,testY])\n",
    "    model.save('Models/keras_training100')\n",
    "tiempofinal=time.time()"
   ]
  },
  {
   "cell_type": "code",
   "execution_count": 142,
   "metadata": {},
   "outputs": [
    {
     "name": "stdout",
     "output_type": "stream",
     "text": [
      "181.43704609473545\n"
     ]
    }
   ],
   "source": [
    "print((tiempofinal-ti)/60)"
   ]
  },
  {
   "cell_type": "code",
   "execution_count": 39,
   "metadata": {},
   "outputs": [
    {
     "data": {
      "text/plain": [
       "array([[-0.91332112, -1.20854392, -0.19381587, ...,  0.09185654,\n",
       "         0.4319833 ,  0.45809148],\n",
       "       [-0.88884379, -1.11266398, -0.04986061, ..., -0.4501449 ,\n",
       "         0.08398442, -0.00812885],\n",
       "       [-0.81044921, -0.81749539,  0.34608203, ..., -0.66089419,\n",
       "        -0.02356124, -0.03912434],\n",
       "       ...,\n",
       "       [ 0.        ,  0.        ,  0.        , ...,  0.        ,\n",
       "         0.        ,  0.        ],\n",
       "       [ 0.        ,  0.        ,  0.        , ...,  0.        ,\n",
       "         0.        ,  0.        ],\n",
       "       [ 0.        ,  0.        ,  0.        , ...,  0.        ,\n",
       "         0.        ,  0.        ]])"
      ]
     },
     "execution_count": 39,
     "metadata": {},
     "output_type": "execute_result"
    }
   ],
   "source": [
    "trainX[0]"
   ]
  },
  {
   "cell_type": "code",
   "execution_count": 113,
   "metadata": {},
   "outputs": [],
   "source": [
    "y=model.predict([[trainX[0]]])"
   ]
  },
  {
   "cell_type": "code",
   "execution_count": 112,
   "metadata": {},
   "outputs": [
    {
     "data": {
      "text/plain": [
       "array([[0.09945323, 0.0985247 , 0.09981292, 0.09982746, 0.10115309,\n",
       "        0.09877511, 0.09959589, 0.10086489, 0.10064428, 0.10134849]],\n",
       "      dtype=float32)"
      ]
     },
     "execution_count": 112,
     "metadata": {},
     "output_type": "execute_result"
    }
   ],
   "source": [
    "model.predict([[trainX[0]]])"
   ]
  },
  {
   "cell_type": "code",
   "execution_count": 116,
   "metadata": {},
   "outputs": [
    {
     "data": {
      "text/plain": [
       "array(['cero'], dtype='<U6')"
      ]
     },
     "execution_count": 116,
     "metadata": {},
     "output_type": "execute_result"
    }
   ],
   "source": [
    "label_encoder.inverse_transform([0])"
   ]
  },
  {
   "cell_type": "code",
   "execution_count": 117,
   "metadata": {},
   "outputs": [
    {
     "data": {
      "text/plain": [
       "'cero'"
      ]
     },
     "execution_count": 117,
     "metadata": {},
     "output_type": "execute_result"
    }
   ],
   "source": [
    "to_text(model,[[trainX[0]]])"
   ]
  },
  {
   "cell_type": "code",
   "execution_count": 118,
   "metadata": {},
   "outputs": [
    {
     "data": {
      "text/plain": [
       "array([[8.5458267e-01, 1.3367206e-05, 1.1010848e-04, 1.2222943e-06,\n",
       "        1.5461472e-05, 3.2351786e-04, 6.4432106e-06, 1.4490633e-01,\n",
       "        3.8986556e-05, 1.9558286e-06]], dtype=float32)"
      ]
     },
     "execution_count": 118,
     "metadata": {},
     "output_type": "execute_result"
    }
   ],
   "source": [
    "y"
   ]
  },
  {
   "cell_type": "code",
   "execution_count": 182,
   "metadata": {},
   "outputs": [
    {
     "data": {
      "text/plain": [
       "array([0., 0., 0., 0., 0., 0., 0., 0., 0., 1.])"
      ]
     },
     "execution_count": 182,
     "metadata": {},
     "output_type": "execute_result"
    }
   ],
   "source": [
    "trainY[0]"
   ]
  },
  {
   "cell_type": "code",
   "execution_count": 120,
   "metadata": {},
   "outputs": [],
   "source": [
    "class_result=y[0]>=y[0][np.argmax(y,axis=-1)]"
   ]
  },
  {
   "cell_type": "code",
   "execution_count": 192,
   "metadata": {},
   "outputs": [
    {
     "data": {
      "text/plain": [
       "0.8600664"
      ]
     },
     "execution_count": 192,
     "metadata": {},
     "output_type": "execute_result"
    }
   ],
   "source": [
    "y[0][9]"
   ]
  },
  {
   "cell_type": "code",
   "execution_count": 121,
   "metadata": {},
   "outputs": [
    {
     "data": {
      "text/plain": [
       "array([ True, False, False, False, False, False, False, False, False,\n",
       "       False])"
      ]
     },
     "execution_count": 121,
     "metadata": {},
     "output_type": "execute_result"
    }
   ],
   "source": [
    "class_result"
   ]
  },
  {
   "cell_type": "code",
   "execution_count": 122,
   "metadata": {},
   "outputs": [
    {
     "data": {
      "text/plain": [
       "array(['cero'], dtype='<U6')"
      ]
     },
     "execution_count": 122,
     "metadata": {},
     "output_type": "execute_result"
    }
   ],
   "source": [
    "decode([class_result])"
   ]
  },
  {
   "cell_type": "code",
   "execution_count": 202,
   "metadata": {},
   "outputs": [],
   "source": [
    "class_result=class_result.astype('int')"
   ]
  },
  {
   "cell_type": "code",
   "execution_count": 236,
   "metadata": {},
   "outputs": [
    {
     "ename": "TypeError",
     "evalue": "predict_proba() missing 1 required positional argument: 'x'",
     "output_type": "error",
     "traceback": [
      "\u001b[0;31m---------------------------------------------------------------------------\u001b[0m",
      "\u001b[0;31mTypeError\u001b[0m                                 Traceback (most recent call last)",
      "\u001b[0;32m<ipython-input-236-45b0ea53bfaf>\u001b[0m in \u001b[0;36m<module>\u001b[0;34m\u001b[0m\n\u001b[0;32m----> 1\u001b[0;31m \u001b[0mm\u001b[0m\u001b[0;34m.\u001b[0m\u001b[0mpredict_proba\u001b[0m\u001b[0;34m(\u001b[0m\u001b[0;34m)\u001b[0m\u001b[0;34m\u001b[0m\u001b[0m\n\u001b[0m",
      "\u001b[0;31mTypeError\u001b[0m: predict_proba() missing 1 required positional argument: 'x'"
     ]
    }
   ],
   "source": []
  },
  {
   "cell_type": "code",
   "execution_count": 229,
   "metadata": {},
   "outputs": [],
   "source": [
    "import librosa\n",
    "wave, sr = librosa.load('data/test/6_seg_v1.wav', mono=True)\n",
    "features= librosa.feature.mfcc(wave, sr,n_mfcc=20)"
   ]
  },
  {
   "cell_type": "code",
   "execution_count": 230,
   "metadata": {},
   "outputs": [
    {
     "data": {
      "text/plain": [
       "array([-1.0500123e-08,  1.5895614e-08, -2.1860259e-08, ...,\n",
       "        8.4779126e-04,  6.8931724e-04,  7.1130751e-04], dtype=float32)"
      ]
     },
     "execution_count": 230,
     "metadata": {},
     "output_type": "execute_result"
    }
   ],
   "source": [
    "wave"
   ]
  },
  {
   "cell_type": "code",
   "execution_count": 231,
   "metadata": {},
   "outputs": [],
   "source": [
    "features = sklearn.preprocessing.scale(features, axis=1)\n",
    "features=np.pad(features,((0,0),(0,160-len(features[0]))),mode='constant', constant_values=0)"
   ]
  },
  {
   "cell_type": "code",
   "execution_count": 232,
   "metadata": {},
   "outputs": [],
   "source": [
    "f=np.matrix.transpose(np.array([features]),[0,2,1])"
   ]
  },
  {
   "cell_type": "code",
   "execution_count": 233,
   "metadata": {},
   "outputs": [],
   "source": [
    "predict=m.predict_classes(f)"
   ]
  },
  {
   "cell_type": "code",
   "execution_count": 235,
   "metadata": {},
   "outputs": [
    {
     "data": {
      "text/plain": [
       "array([['dos']], dtype='<U6')"
      ]
     },
     "execution_count": 235,
     "metadata": {},
     "output_type": "execute_result"
    }
   ],
   "source": [
    "decode(np.eye(10)[predict])"
   ]
  },
  {
   "cell_type": "code",
   "execution_count": 78,
   "metadata": {},
   "outputs": [
    {
     "data": {
      "text/plain": [
       "3"
      ]
     },
     "execution_count": 78,
     "metadata": {},
     "output_type": "execute_result"
    }
   ],
   "source": [
    "np.argmax(predict)"
   ]
  },
  {
   "cell_type": "code",
   "execution_count": 220,
   "metadata": {},
   "outputs": [
    {
     "data": {
      "text/plain": [
       "array(['three'], dtype='<U5')"
      ]
     },
     "execution_count": 220,
     "metadata": {},
     "output_type": "execute_result"
    }
   ],
   "source": [
    "label_encoder.inverse_transform(label)"
   ]
  },
  {
   "cell_type": "code",
   "execution_count": 225,
   "metadata": {},
   "outputs": [
    {
     "data": {
      "text/plain": [
       "'three'"
      ]
     },
     "execution_count": 225,
     "metadata": {},
     "output_type": "execute_result"
    }
   ],
   "source": [
    "to_text(m,f)"
   ]
  },
  {
   "cell_type": "markdown",
   "metadata": {},
   "source": [
    "# Load Model "
   ]
  },
  {
   "cell_type": "code",
   "execution_count": 243,
   "metadata": {},
   "outputs": [],
   "source": [
    "import tensorflow as tf\n",
    "m=tf.keras.models.load_model('Models/keras_training')"
   ]
  },
  {
   "cell_type": "code",
   "execution_count": 4,
   "metadata": {},
   "outputs": [],
   "source": [
    "from keras.utils import plot_model\n",
    "plot_model(m, to_file='model.png')"
   ]
  },
  {
   "cell_type": "code",
   "execution_count": 244,
   "metadata": {},
   "outputs": [
    {
     "data": {
      "text/plain": [
       "array([0])"
      ]
     },
     "execution_count": 244,
     "metadata": {},
     "output_type": "execute_result"
    }
   ],
   "source": [
    "m.predict_classes([[trainX[0]]])"
   ]
  },
  {
   "cell_type": "markdown",
   "metadata": {},
   "source": [
    "# Recording audios and predict them"
   ]
  },
  {
   "cell_type": "code",
   "execution_count": 232,
   "metadata": {},
   "outputs": [],
   "source": [
    "import sounddevice as sd\n",
    "import ipywidgets as widgets\n",
    "from IPython.display import display"
   ]
  },
  {
   "cell_type": "code",
   "execution_count": 233,
   "metadata": {},
   "outputs": [
    {
     "data": {
      "application/vnd.jupyter.widget-view+json": {
       "model_id": "37058879aefd401cba529cc3b7b5bd71",
       "version_major": 2,
       "version_minor": 0
      },
      "text/plain": [
       "Button(description='Record', style=ButtonStyle())"
      ]
     },
     "metadata": {},
     "output_type": "display_data"
    }
   ],
   "source": [
    "button = widgets.Button(description=\"Record\")\n",
    "display(button)\n",
    "\n",
    "def on_button_clicked(b):\n",
    "    print(\"Button clicked.\")\n",
    "\n",
    "button.on_click(on_button_clicked)\n"
   ]
  },
  {
   "cell_type": "code",
   "execution_count": 240,
   "metadata": {},
   "outputs": [],
   "source": [
    "duration = 10000  # seconds\n",
    "fs=16000\n",
    "myrecording = sd.rec(int(duration * fs), samplerate=fs, channels=1)"
   ]
  },
  {
   "cell_type": "code",
   "execution_count": 241,
   "metadata": {},
   "outputs": [
    {
     "data": {
      "text/plain": [
       "array([[-3.3615484e-07],\n",
       "       [ 8.7624744e-07],\n",
       "       [-9.1520860e-07],\n",
       "       ...,\n",
       "       [ 0.0000000e+00],\n",
       "       [ 0.0000000e+00],\n",
       "       [ 0.0000000e+00]], dtype=float32)"
      ]
     },
     "execution_count": 241,
     "metadata": {},
     "output_type": "execute_result"
    }
   ],
   "source": [
    "myrecording"
   ]
  },
  {
   "cell_type": "code",
   "execution_count": 258,
   "metadata": {},
   "outputs": [
    {
     "name": "stdout",
     "output_type": "stream",
     "text": [
      "recording...\n",
      "finished recording\n"
     ]
    }
   ],
   "source": [
    "import pyaudio\n",
    "import wave\n",
    " \n",
    "FORMAT = pyaudio.paInt16\n",
    "CHANNELS = 1\n",
    "RATE = 48000#44100\n",
    "CHUNK = 1024\n",
    "RECORD_SECONDS = 2\n",
    "WAVE_OUTPUT_FILENAME = \"file.wav\"\n",
    " \n",
    "audio = pyaudio.PyAudio()\n",
    " \n",
    "# start Recording\n",
    "stream = audio.open(format=FORMAT, channels=CHANNELS,\n",
    "                rate=RATE, input=True,\n",
    "                frames_per_buffer=CHUNK)\n",
    "print (\"recording...\")\n",
    "frames = []\n",
    " \n",
    "for i in range(0, int(RATE / CHUNK * RECORD_SECONDS)):\n",
    "    data = stream.read(CHUNK)\n",
    "    frames.append(data)\n",
    "print (\"finished recording\")\n",
    " \n",
    " \n",
    "# stop Recording\n",
    "stream.stop_stream()\n",
    "stream.close()\n",
    "audio.terminate()\n",
    " \n",
    "waveFile = wave.open(WAVE_OUTPUT_FILENAME, 'wb')\n",
    "waveFile.setnchannels(CHANNELS)\n",
    "waveFile.setsampwidth(audio.get_sample_size(FORMAT))\n",
    "waveFile.setframerate(RATE)\n",
    "waveFile.writeframes(b''.join(frames))\n",
    "waveFile.close()"
   ]
  },
  {
   "cell_type": "code",
   "execution_count": 259,
   "metadata": {},
   "outputs": [
    {
     "data": {
      "text/plain": [
       "<module 'wave' from '/home/visoc/anaconda3/envs/tf/lib/python3.6/wave.py'>"
      ]
     },
     "execution_count": 259,
     "metadata": {},
     "output_type": "execute_result"
    }
   ],
   "source": [
    "wave"
   ]
  },
  {
   "cell_type": "code",
   "execution_count": 260,
   "metadata": {},
   "outputs": [],
   "source": [
    "import librosa\n",
    "wave, sr = librosa.load('file.wav', mono=True)\n",
    "features= librosa.feature.mfcc(wave, sr,n_mfcc=20)"
   ]
  },
  {
   "cell_type": "code",
   "execution_count": 261,
   "metadata": {},
   "outputs": [
    {
     "data": {
      "text/plain": [
       "array([0.01377955, 0.02141383, 0.01817723, ..., 0.00746789, 0.00617825,\n",
       "       0.        ], dtype=float32)"
      ]
     },
     "execution_count": 261,
     "metadata": {},
     "output_type": "execute_result"
    }
   ],
   "source": [
    "wave"
   ]
  },
  {
   "cell_type": "code",
   "execution_count": 262,
   "metadata": {},
   "outputs": [],
   "source": [
    "features = sklearn.preprocessing.scale(features, axis=1)\n",
    "features=np.pad(features,((0,0),(0,160-len(features[0]))),mode='constant', constant_values=0)\n",
    "f=np.matrix.transpose(np.array([features]),[0,2,1])"
   ]
  },
  {
   "cell_type": "code",
   "execution_count": 263,
   "metadata": {},
   "outputs": [],
   "source": [
    "label=m.predict_classes(f)"
   ]
  },
  {
   "cell_type": "code",
   "execution_count": 267,
   "metadata": {},
   "outputs": [
    {
     "name": "stdout",
     "output_type": "stream",
     "text": [
      "<bound method Sequential.get_config of <tensorflow.python.keras.engine.sequential.Sequential object at 0x7f4076c35128>>\n"
     ]
    }
   ],
   "source": []
  },
  {
   "cell_type": "code",
   "execution_count": 265,
   "metadata": {},
   "outputs": [
    {
     "data": {
      "text/plain": [
       "array([['uno']], dtype='<U6')"
      ]
     },
     "execution_count": 265,
     "metadata": {},
     "output_type": "execute_result"
    }
   ],
   "source": [
    "decode(np.eye(10)[label])"
   ]
  },
  {
   "cell_type": "code",
   "execution_count": 35,
   "metadata": {},
   "outputs": [],
   "source": [
    "label=class_to_integer_encoded(label[0]-1)"
   ]
  },
  {
   "cell_type": "code",
   "execution_count": 36,
   "metadata": {},
   "outputs": [
    {
     "data": {
      "text/plain": [
       "array([[6]])"
      ]
     },
     "execution_count": 36,
     "metadata": {},
     "output_type": "execute_result"
    }
   ],
   "source": [
    "label"
   ]
  },
  {
   "cell_type": "code",
   "execution_count": 37,
   "metadata": {},
   "outputs": [
    {
     "data": {
      "text/plain": [
       "array(['seis'], dtype='<U6')"
      ]
     },
     "execution_count": 37,
     "metadata": {},
     "output_type": "execute_result"
    }
   ],
   "source": [
    "label_encoder.inverse_transform(label)"
   ]
  },
  {
   "cell_type": "code",
   "execution_count": 177,
   "metadata": {},
   "outputs": [],
   "source": [
    "import tensorflow as tf\n"
   ]
  },
  {
   "cell_type": "code",
   "execution_count": null,
   "metadata": {},
   "outputs": [],
   "source": [
    "model=tf.keras.Sequential()\n",
    "#model.add(tf.layers.Dropout(0.5))\n",
    "model.add(tf.keras.layers.RNN(_units, input_shape=(time_steps,n_inputs)))\n",
    "model.add(tf.keras.layers.Dropout(0.5))\n",
    "model.add(tf.layers.Dense(n_class, activation='softmax'))\n",
    "model.compile(loss='categorical_crossentropy',optimizer='adam',metrics=['accuracy'])"
   ]
  }
 ],
 "metadata": {
  "kernelspec": {
   "display_name": "Python 3",
   "language": "python",
   "name": "python3"
  },
  "language_info": {
   "codemirror_mode": {
    "name": "ipython",
    "version": 3
   },
   "file_extension": ".py",
   "mimetype": "text/x-python",
   "name": "python",
   "nbconvert_exporter": "python",
   "pygments_lexer": "ipython3",
   "version": "3.6.5"
  }
 },
 "nbformat": 4,
 "nbformat_minor": 2
}
